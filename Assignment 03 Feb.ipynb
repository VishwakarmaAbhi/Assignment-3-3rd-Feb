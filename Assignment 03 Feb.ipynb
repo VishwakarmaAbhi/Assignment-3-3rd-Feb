{
 "cells": [
  {
   "cell_type": "markdown",
   "id": "b5bd0cc0-23ad-438a-b7ca-9b96ea1e256c",
   "metadata": {},
   "source": [
    "Q1. Which keyword is used to create a function? Create a function to return a list of odd numbers in the\n",
    "range of 1 to 25.\n"
   ]
  },
  {
   "cell_type": "markdown",
   "id": "aac2fd3d-0bd4-46a1-a6e1-ff3f5b34cb98",
   "metadata": {},
   "source": [
    "Ans: The keyword used to create a function in Python is \"def\". Here's an example function that returns a list of odd numbers in the range of 1 to 25:\n"
   ]
  },
  {
   "cell_type": "code",
   "execution_count": 2,
   "id": "d9c5a9b1-522a-4c31-8460-97a0312faacc",
   "metadata": {},
   "outputs": [
    {
     "name": "stdout",
     "output_type": "stream",
     "text": [
      "[1, 3, 5, 7, 9, 11, 13, 15, 17, 19, 21, 23, 25]\n"
     ]
    }
   ],
   "source": [
    "def odd_numbers():\n",
    "    odd_nums = []\n",
    "    for i in range(1, 26):\n",
    "        if i % 2 != 0:\n",
    "            odd_nums.append(i)\n",
    "    return odd_nums\n",
    "print(odd_numbers())\n",
    "\n"
   ]
  },
  {
   "cell_type": "markdown",
   "id": "359f4280-fba3-4178-9b3c-0ad459200cac",
   "metadata": {},
   "source": [
    "Q2. Why *args and **kwargs is used in some functions? Create a function each for *args and **kwargs\n",
    "to demonstrate their use."
   ]
  },
  {
   "cell_type": "markdown",
   "id": "b9af129c-c224-47bc-9769-fd959feac08a",
   "metadata": {},
   "source": [
    "Ans: \"*args\" and \"**kwargs\" are special syntax in Python that allow you to pass a variable number of arguments to a function.\n",
    "\n",
    "The '*args' syntax allows you to pass an arbitrary number of arguments to a function as a tuple. This can be useful when you don't know how many arguments the function will need to accept at runtime. Here's an example function that takes in *args and returns their sum:"
   ]
  },
  {
   "cell_type": "code",
   "execution_count": 3,
   "id": "f1feb312-7c86-4387-975a-7435391fc13e",
   "metadata": {},
   "outputs": [
    {
     "name": "stdout",
     "output_type": "stream",
     "text": [
      "6\n",
      "30\n"
     ]
    }
   ],
   "source": [
    "#Function of '*args'\n",
    "def sum_args(*args):\n",
    "    total = sum(args)\n",
    "    return total\n",
    "print(sum_args(1, 2, 3)) \n",
    "print(sum_args(4, 5, 6, 7, 8)) \n"
   ]
  },
  {
   "cell_type": "markdown",
   "id": "bb237871-51d3-4a76-8b8e-12f6f8456b4c",
   "metadata": {},
   "source": [
    "The '**kwargs' syntax is similar to *args, but allows you to pass keyword arguments to a function as a dictionary. This can be useful when you need to pass in a variable number of named arguments to a function. Here's an example function that takes in '**kwargs' and returns a formatted string:"
   ]
  },
  {
   "cell_type": "code",
   "execution_count": 5,
   "id": "049f7a29-9ce7-4f16-815b-fbe2719689e5",
   "metadata": {},
   "outputs": [
    {
     "name": "stdout",
     "output_type": "stream",
     "text": [
      "name: Alice\n",
      "age: 30\n",
      "city: New York\n",
      "\n",
      "color: blue\n",
      "size: small\n",
      "material: cotton\n",
      "\n"
     ]
    }
   ],
   "source": [
    "#Function of '**kwargs'\n",
    "def format_kwargs(**kwargs):\n",
    "    formatted_string = \"\"\n",
    "    for key, value in kwargs.items():\n",
    "        formatted_string += f\"{key}: {value}\\n\"\n",
    "    return formatted_string\n",
    "print(format_kwargs(name=\"Alice\", age=30, city=\"New York\")) \n",
    "print(format_kwargs(color=\"blue\", size=\"small\", material=\"cotton\")) \n"
   ]
  },
  {
   "cell_type": "markdown",
   "id": "06697c62-8380-4051-9201-8f17759087fe",
   "metadata": {},
   "source": [
    "Q3. What is an iterator in python? Name the method used to initialise the iterator object and the method\n",
    "used for iteration. Use these methods to print the first five elements of the given list [2, 4, 6, 8, 10, 12, 14,\n",
    "16, 18, 20]."
   ]
  },
  {
   "cell_type": "markdown",
   "id": "43e0ce2e-72f5-410c-acf7-311b33b3a2a5",
   "metadata": {},
   "source": [
    "Ans: An iterator in Python is an object that enables iteration over a collection of elements, such as a list or a tuple, by providing a sequence of values, one at a time.\n",
    "To initialize an iterator object in Python, we use the iter() method, which takes a sequence as its argument and returns an iterator object.\n",
    "To iterate over the elements of an iterator object, we use the next() method, which returns the next element in the sequence."
   ]
  },
  {
   "cell_type": "code",
   "execution_count": 6,
   "id": "0b0a0c60-002d-4c86-9564-9a2a0a1a6774",
   "metadata": {},
   "outputs": [
    {
     "name": "stdout",
     "output_type": "stream",
     "text": [
      "2\n",
      "4\n",
      "6\n",
      "8\n",
      "10\n"
     ]
    }
   ],
   "source": [
    "#Here's an example code to print the first five elements of the given list using an iterator object:\n",
    "lst = [2, 4, 6, 8, 10, 12, 14, 16, 18, 20]\n",
    "\n",
    "# initialize an iterator object\n",
    "it = iter(lst)\n",
    "\n",
    "# iterate over the first five elements of the list\n",
    "for i in range(5):\n",
    "    print(next(it))\n"
   ]
  },
  {
   "cell_type": "markdown",
   "id": "2c858127-94dc-494b-9c0a-74cde39216e9",
   "metadata": {},
   "source": [
    "In the above code, we first initialize an iterator object 'it' using the 'iter()' method and pass the list 'lst' as its argument.\n",
    "\n",
    "Next, we use a 'for' loop and the 'next()' method to iterate over the first five elements of the list and print them. The 'range(5)' specifies that we only want to iterate five times."
   ]
  },
  {
   "cell_type": "markdown",
   "id": "7e9f14c4-17a1-447a-a0a5-640e524ae979",
   "metadata": {},
   "source": [
    "Q4. What is a generator function in python? Why yield keyword is used? Give an example of a generator\n",
    "function."
   ]
  },
  {
   "cell_type": "markdown",
   "id": "796720d9-70a0-4d2e-8161-fef882af2d02",
   "metadata": {},
   "source": [
    "Ans: A generator function in Python is a special type of function that can be used to create an iterator object. It uses the \"yield\" keyword to return values one at a time, instead of returning a list of values all at once like a normal function.\n",
    "\n",
    "When a generator function is called, it returns a generator object, which is an iterator that can be used to iterate over the sequence of values generated by the function. The \"yield\" keyword is used to return each value in the sequence, and the function is paused until the next value is requested.\n",
    "\n",
    "The benefit of using a generator function over a normal function that returns a list is that generator functions can generate large sequences of values without consuming too much memory. Instead of creating the entire sequence of values upfront, they generate values on the fly as they are requested."
   ]
  },
  {
   "cell_type": "code",
   "execution_count": 7,
   "id": "50f34c97-6529-4fcb-807c-f6bf8245ae03",
   "metadata": {},
   "outputs": [
    {
     "name": "stdout",
     "output_type": "stream",
     "text": [
      "0\n",
      "1\n",
      "1\n",
      "2\n",
      "3\n",
      "5\n",
      "8\n",
      "13\n",
      "21\n",
      "34\n",
      "55\n",
      "89\n"
     ]
    }
   ],
   "source": [
    "#Here's an example of a generator function that generates the sequence of Fibonacci numbers up to a given limit:\n",
    "def fibonacci(limit):\n",
    "    # initialize variables\n",
    "    a, b = 0, 1\n",
    "\n",
    "    # generate Fibonacci sequence up to the limit\n",
    "    while a < limit:\n",
    "        yield a\n",
    "        a, b = b, a + b\n",
    "#In this example, we define a generator function \"fibonacci()\" that takes a \"limit\" parameter as its argument.\n",
    "#Inside the function, we use a \"while\" loop to generate the Fibonacci sequence up to the limit. The \"yield\" keyword is used to return each value in the sequence, and the function is paused until the next value is requested.\n",
    "#To use the \"fibonacci()\" generator function to generate the sequence of Fibonacci numbers up to a limit of 100, we can create a generator object and iterate over it using a \"for\" loop:\n",
    "\n",
    "# create generator object\n",
    "fib = fibonacci(100)\n",
    "\n",
    "# iterate over the generator object and print each value\n",
    "for num in fib:\n",
    "    print(num)\n"
   ]
  },
  {
   "cell_type": "markdown",
   "id": "6acd5aed-d673-4559-bcb3-869868a1abc4",
   "metadata": {},
   "source": [
    "In this example, we first create a generator object \"fib\" by calling the \"fibonacci()\" generator function with a limit of 100.\n",
    "\n",
    "Next, we use a \"for\" loop to iterate over the generator object and print each value in the sequence of Fibonacci numbers up to the limit. Since the \"fibonacci()\" generator function uses the \"yield\" keyword to return values one at a time, the \"for\" loop can iterate over the sequence of values generated by the function without consuming too much memory."
   ]
  },
  {
   "cell_type": "markdown",
   "id": "ed9e359d-fac8-4f44-9662-a732729949f3",
   "metadata": {},
   "source": [
    "Q5. Create a generator function for prime numbers less than 1000. Use the next() method to print the\n",
    "first 20 prime numbers."
   ]
  },
  {
   "cell_type": "code",
   "execution_count": 1,
   "id": "fa2d81f6-6d84-4bad-86fb-e40ad534f833",
   "metadata": {},
   "outputs": [
    {
     "name": "stdout",
     "output_type": "stream",
     "text": [
      "2\n",
      "3\n",
      "5\n",
      "7\n",
      "11\n",
      "13\n",
      "17\n",
      "19\n",
      "23\n",
      "29\n",
      "31\n",
      "37\n",
      "41\n",
      "43\n",
      "47\n",
      "53\n",
      "59\n",
      "61\n",
      "67\n",
      "71\n"
     ]
    }
   ],
   "source": [
    "def prime_generator():\n",
    "    primes = []\n",
    "    num = 2\n",
    "    while True:\n",
    "        is_prime = True\n",
    "        for prime in primes:\n",
    "            if num % prime == 0:\n",
    "                is_prime = False\n",
    "                break\n",
    "        if is_prime:\n",
    "            primes.append(num)\n",
    "            yield num\n",
    "        num += 1\n",
    "\n",
    "# Create the generator\n",
    "prime_gen = prime_generator()\n",
    "\n",
    "# Print the first 20 prime numbers\n",
    "for _ in range(20):\n",
    "    print(next(prime_gen))\n"
   ]
  },
  {
   "cell_type": "markdown",
   "id": "38669105-f94b-4e1f-9119-f294ad3f73f6",
   "metadata": {},
   "source": [
    "Q6. Write a python program to print the first 10 Fibonacci numbers using a while loop."
   ]
  },
  {
   "cell_type": "code",
   "execution_count": 2,
   "id": "6084fb36-58f1-4b78-b8ae-7576902f0e52",
   "metadata": {},
   "outputs": [
    {
     "name": "stdout",
     "output_type": "stream",
     "text": [
      "0\n",
      "1\n",
      "1\n",
      "2\n",
      "3\n",
      "5\n",
      "8\n",
      "13\n",
      "21\n",
      "34\n"
     ]
    }
   ],
   "source": [
    "# Initialize the first two Fibonacci numbers\n",
    "a, b = 0, 1\n",
    "\n",
    "# Counter to keep track of the number of Fibonacci numbers printed\n",
    "count = 0\n",
    "\n",
    "# Print the first 10 Fibonacci numbers\n",
    "while count < 10:\n",
    "    print(a)\n",
    "\n",
    "    # Update the Fibonacci sequence\n",
    "    a, b = b, a + b\n",
    "\n",
    "    # Increment the counter\n",
    "    count += 1\n"
   ]
  },
  {
   "cell_type": "markdown",
   "id": "724dbbcf-cec6-4f04-8132-6a4e09ac28be",
   "metadata": {},
   "source": [
    "Q7. Write a List Comprehension to iterate through the given string: ‘pwskills’.\n",
    "Expected output: ['p', 'w', 's', 'k', 'i', 'l', 'l', 's']"
   ]
  },
  {
   "cell_type": "code",
   "execution_count": 3,
   "id": "0de858fc-ff65-4e05-bec9-feddcb634c84",
   "metadata": {},
   "outputs": [
    {
     "name": "stdout",
     "output_type": "stream",
     "text": [
      "['p', 'w', 's', 'k', 'i', 'l', 'l', 's']\n"
     ]
    }
   ],
   "source": [
    "string = 'pwskills'\n",
    "output = [char for char in string if char in 'pwskills']\n",
    "print(output)\n"
   ]
  },
  {
   "cell_type": "markdown",
   "id": "dac85a9f-6d26-4b4b-a305-0ffcc9e2ab2a",
   "metadata": {},
   "source": [
    "Q8. Write a python program to check whether a given number is Palindrome or not using a while loop."
   ]
  },
  {
   "cell_type": "code",
   "execution_count": 4,
   "id": "6cde53be-ae82-4330-8f8d-475ba8884068",
   "metadata": {},
   "outputs": [
    {
     "name": "stdin",
     "output_type": "stream",
     "text": [
      "Enter a number:  5\n"
     ]
    },
    {
     "name": "stdout",
     "output_type": "stream",
     "text": [
      "5 is a palindrome.\n"
     ]
    }
   ],
   "source": [
    "def is_palindrome(number):\n",
    "    # Convert the number to a string\n",
    "    number_str = str(number)\n",
    "\n",
    "    # Initialize the left and right pointers\n",
    "    left = 0\n",
    "    right = len(number_str) - 1\n",
    "\n",
    "    # Compare characters from both ends\n",
    "    while left < right:\n",
    "        if number_str[left] != number_str[right]:\n",
    "            return False\n",
    "        left += 1\n",
    "        right -= 1\n",
    "\n",
    "    return True\n",
    "\n",
    "\n",
    "# Test the function\n",
    "num = int(input(\"Enter a number: \"))\n",
    "if is_palindrome(num):\n",
    "    print(f\"{num} is a palindrome.\")\n",
    "else:\n",
    "    print(f\"{num} is not a palindrome.\")\n"
   ]
  },
  {
   "cell_type": "markdown",
   "id": "ec33efa4-72c6-4913-b723-0fcf39175fd6",
   "metadata": {},
   "source": [
    "Q9. Write a code to print odd numbers from 1 to 100 using list comprehension.\n",
    "Note: Use a list comprehension to create a list from 1 to 100 and use another List comprehension to filter\n",
    "out odd numbers."
   ]
  },
  {
   "cell_type": "code",
   "execution_count": 5,
   "id": "328c0625-e4fd-4fb4-b799-004d86dccbc2",
   "metadata": {},
   "outputs": [
    {
     "name": "stdout",
     "output_type": "stream",
     "text": [
      "[1, 3, 5, 7, 9, 11, 13, 15, 17, 19, 21, 23, 25, 27, 29, 31, 33, 35, 37, 39, 41, 43, 45, 47, 49, 51, 53, 55, 57, 59, 61, 63, 65, 67, 69, 71, 73, 75, 77, 79, 81, 83, 85, 87, 89, 91, 93, 95, 97, 99]\n"
     ]
    }
   ],
   "source": [
    "# Create a list from 1 to 100 using list comprehension\n",
    "numbers = [num for num in range(1, 101)]\n",
    "\n",
    "# Filter out the odd numbers using another list comprehension\n",
    "odd_numbers = [num for num in numbers if num % 2 != 0]\n",
    "\n",
    "# Print the resulting list of odd numbers\n",
    "print(odd_numbers)\n"
   ]
  },
  {
   "cell_type": "code",
   "execution_count": null,
   "id": "de006091-913f-4b7e-9301-c0613e51cedd",
   "metadata": {},
   "outputs": [],
   "source": []
  }
 ],
 "metadata": {
  "kernelspec": {
   "display_name": "Python 3 (ipykernel)",
   "language": "python",
   "name": "python3"
  },
  "language_info": {
   "codemirror_mode": {
    "name": "ipython",
    "version": 3
   },
   "file_extension": ".py",
   "mimetype": "text/x-python",
   "name": "python",
   "nbconvert_exporter": "python",
   "pygments_lexer": "ipython3",
   "version": "3.10.6"
  }
 },
 "nbformat": 4,
 "nbformat_minor": 5
}
